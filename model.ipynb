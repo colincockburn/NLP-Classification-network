{
 "cells": [
  {
   "cell_type": "code",
   "execution_count": 1,
   "metadata": {},
   "outputs": [
    {
     "name": "stdout",
     "output_type": "stream",
     "text": [
      "WARNING:tensorflow:From c:\\Python310\\lib\\site-packages\\keras\\src\\losses.py:2976: The name tf.losses.sparse_softmax_cross_entropy is deprecated. Please use tf.compat.v1.losses.sparse_softmax_cross_entropy instead.\n",
      "\n"
     ]
    }
   ],
   "source": [
    "from sklearn.datasets import fetch_20newsgroups\n",
    "import tensorflow as tf\n",
    "from tensorflow.keras.preprocessing.text import Tokenizer\n",
    "from tensorflow.keras.preprocessing.sequence import pad_sequences\n",
    "from tensorflow.keras.models import Sequential\n",
    "from tensorflow.keras.layers import Embedding, Flatten, Dense \n",
    "from sklearn.model_selection import train_test_split\n",
    "from sklearn.preprocessing import LabelEncoder\n",
    "from tensorflow.keras.utils import to_categorical\n",
    "from tensorflow.keras.layers import Conv1D, MaxPooling1D, Flatten, Dense\n",
    "import numpy as np\n",
    "from gensim.models import KeyedVectors\n",
    "\n",
    "\n"
   ]
  },
  {
   "cell_type": "code",
   "execution_count": 2,
   "metadata": {},
   "outputs": [],
   "source": [
    "# load the data while excluding meta data\n",
    "data = fetch_20newsgroups(subset='all', remove=('headers', 'footers', 'quotes'))\n",
    "texts = data.data  # List of documents\n",
    "labels = data.target  # Target labels"
   ]
  },
  {
   "cell_type": "code",
   "execution_count": 3,
   "metadata": {},
   "outputs": [],
   "source": [
    "# Tokenize the text. this is done by assigning each word a number\n",
    "tokenizer = Tokenizer(num_words=10000)\n",
    "# fit_on_texts creates the vocabulary index based on word frequency\n",
    "tokenizer.fit_on_texts(texts)\n",
    "# texts_to_sequences converts the text to a list of integers\n",
    "sequences = tokenizer.texts_to_sequences(texts)\n",
    "# word_index is a dictionary of words and their uniquely assigned integers\n",
    "word_index = tokenizer.word_index\n",
    "\n",
    "# Pad the sequences. this is done to ensure that all sequences are of the same length\n",
    "data = pad_sequences(sequences, maxlen=1000)\n",
    "\n",
    "# Encode the labels. this is done to ensure that the labels are in the form of integers\n",
    "encoder = LabelEncoder()\n",
    "encoded_labels = encoder.fit_transform(labels)\n",
    "# Convert the labels to categorical values\n",
    "labels = to_categorical(encoded_labels)\n",
    "\n",
    "# Split the data into training and testing sets\n",
    "X_train, X_test, Y_train, Y_test = train_test_split(data, labels, test_size=0.2, random_state=42)\n"
   ]
  },
  {
   "cell_type": "code",
   "execution_count": 4,
   "metadata": {},
   "outputs": [],
   "source": [
    "# set data set parameters which will be used in the model\n",
    "vocab_size = 10000  \n",
    "embedding_dim = 64  # The dimensionality of the embedding vectors\n",
    "max_length = 1000   # The length of the input sequences\n",
    "num_classes = labels.shape[1]  # The number of unique classes"
   ]
  },
  {
   "cell_type": "code",
   "execution_count": 5,
   "metadata": {},
   "outputs": [
    {
     "name": "stdout",
     "output_type": "stream",
     "text": [
      "WARNING:tensorflow:From c:\\Python310\\lib\\site-packages\\keras\\src\\backend.py:873: The name tf.get_default_graph is deprecated. Please use tf.compat.v1.get_default_graph instead.\n",
      "\n",
      "WARNING:tensorflow:From c:\\Python310\\lib\\site-packages\\keras\\src\\backend.py:6642: The name tf.nn.max_pool is deprecated. Please use tf.nn.max_pool2d instead.\n",
      "\n"
     ]
    }
   ],
   "source": [
    "# create a sequential model\n",
    "model = Sequential()\n",
    "\n",
    "# train our own embedding layer\n",
    "model.add(Embedding(vocab_size, embedding_dim, input_length=max_length))\n",
    "\n",
    "# feed embedding to a convolutional layer and pool the result. this is done to reduce the dimensionality\n",
    "model.add(Conv1D(64, 5, activation='relu'))\n",
    "model.add(MaxPooling1D(pool_size=4))\n",
    "\n",
    "# Flatten the output to feed into a Dense layer, must reduce to 1 dimension\n",
    "model.add(Flatten())\n",
    "\n",
    "# Add a hidden layer\n",
    "model.add(Dense(32, activation='relu'))\n",
    "\n",
    "# Classification layer for output. use softmax to assign probabilities to each class\n",
    "model.add(Dense(num_classes, activation='softmax'))"
   ]
  },
  {
   "cell_type": "code",
   "execution_count": 6,
   "metadata": {},
   "outputs": [
    {
     "name": "stdout",
     "output_type": "stream",
     "text": [
      "WARNING:tensorflow:From c:\\Python310\\lib\\site-packages\\keras\\src\\optimizers\\__init__.py:309: The name tf.train.Optimizer is deprecated. Please use tf.compat.v1.train.Optimizer instead.\n",
      "\n",
      "Epoch 1/10\n",
      "WARNING:tensorflow:From c:\\Python310\\lib\\site-packages\\keras\\src\\utils\\tf_utils.py:492: The name tf.ragged.RaggedTensorValue is deprecated. Please use tf.compat.v1.ragged.RaggedTensorValue instead.\n",
      "\n",
      "WARNING:tensorflow:From c:\\Python310\\lib\\site-packages\\keras\\src\\engine\\base_layer_utils.py:384: The name tf.executing_eagerly_outside_functions is deprecated. Please use tf.compat.v1.executing_eagerly_outside_functions instead.\n",
      "\n",
      "118/118 [==============================] - 29s 239ms/step - loss: 2.9403 - accuracy: 0.0684 - val_loss: 2.7625 - val_accuracy: 0.1011\n",
      "Epoch 2/10\n",
      "118/118 [==============================] - 26s 219ms/step - loss: 2.4202 - accuracy: 0.1852 - val_loss: 2.2009 - val_accuracy: 0.2729\n",
      "Epoch 3/10\n",
      "118/118 [==============================] - 28s 234ms/step - loss: 1.7840 - accuracy: 0.4058 - val_loss: 1.8882 - val_accuracy: 0.4186\n",
      "Epoch 4/10\n",
      "118/118 [==============================] - 27s 231ms/step - loss: 1.3046 - accuracy: 0.5918 - val_loss: 1.7814 - val_accuracy: 0.4958\n",
      "Epoch 5/10\n",
      "118/118 [==============================] - 34s 285ms/step - loss: 0.9884 - accuracy: 0.6981 - val_loss: 1.8625 - val_accuracy: 0.5218\n",
      "Epoch 6/10\n",
      "118/118 [==============================] - 34s 285ms/step - loss: 0.7896 - accuracy: 0.7653 - val_loss: 2.0460 - val_accuracy: 0.5082\n",
      "Epoch 7/10\n",
      "118/118 [==============================] - 36s 303ms/step - loss: 0.6544 - accuracy: 0.8086 - val_loss: 2.2643 - val_accuracy: 0.5156\n",
      "Epoch 8/10\n",
      "118/118 [==============================] - 46s 392ms/step - loss: 0.5383 - accuracy: 0.8462 - val_loss: 2.5160 - val_accuracy: 0.5162\n",
      "Epoch 9/10\n",
      "118/118 [==============================] - 46s 391ms/step - loss: 0.4518 - accuracy: 0.8749 - val_loss: 2.7471 - val_accuracy: 0.5122\n",
      "Epoch 10/10\n",
      "118/118 [==============================] - 26s 222ms/step - loss: 0.3810 - accuracy: 0.8975 - val_loss: 3.0472 - val_accuracy: 0.5178\n"
     ]
    }
   ],
   "source": [
    "\n",
    "\n",
    "# Compile the model\n",
    "model.compile(loss='categorical_crossentropy', optimizer='adam', metrics=['accuracy'])\n",
    "\n",
    "# Train the model\n",
    "history = model.fit(X_train, Y_train, epochs=10, batch_size=128, validation_data=(X_test, Y_test))\n"
   ]
  },
  {
   "cell_type": "code",
   "execution_count": 7,
   "metadata": {},
   "outputs": [],
   "source": [
    "\n",
    "# Load Word2Vec embeddings\n",
    "word_vectors = KeyedVectors.load_word2vec_format('GoogleNews-vectors-negative300.bin', binary=True) \n"
   ]
  },
  {
   "cell_type": "code",
   "execution_count": 8,
   "metadata": {},
   "outputs": [],
   "source": [
    "embedding_dim = 300  # match embedding dimension to the word2vec embedding dimension\n",
    "\n",
    "# Initialize the embedding matrix with an additional row for index 0\n",
    "embedding_matrix = np.zeros((vocab_size + 1, embedding_dim))\n",
    "\n",
    "for word, i in word_index.items():\n",
    "    if i < vocab_size:  # Ensure indices are within the specified vocab_size\n",
    "        if word in word_vectors.key_to_index:\n",
    "            embedding_matrix[i] = word_vectors[word]\n",
    "\n",
    "\n",
    "# Define model\n",
    "model = Sequential()\n",
    "# add word2vec embedding layer\n",
    "model.add(Embedding(vocab_size + 1, embedding_dim, input_length=max_length, weights=[embedding_matrix], trainable=False)) \n",
    "# convolutional layer\n",
    "model.add(Conv1D(64, 5, activation='relu'))\n",
    "model.add(MaxPooling1D(pool_size=4))\n",
    "\n",
    "# Flatten the output to feed into a Dense layer\n",
    "model.add(Flatten())\n",
    "\n",
    "# hidden layer\n",
    "model.add(Dense(32, activation='relu'))\n",
    "\n",
    "# Classification layer\n",
    "model.add(Dense(num_classes, activation='softmax'))\n",
    "\n"
   ]
  },
  {
   "cell_type": "code",
   "execution_count": 9,
   "metadata": {},
   "outputs": [
    {
     "name": "stdout",
     "output_type": "stream",
     "text": [
      "Epoch 1/10\n",
      "118/118 [==============================] - 97s 811ms/step - loss: 2.7855 - accuracy: 0.1075 - val_loss: 2.3678 - val_accuracy: 0.2292\n",
      "Epoch 2/10\n",
      "118/118 [==============================] - 87s 738ms/step - loss: 1.9744 - accuracy: 0.3572 - val_loss: 1.8435 - val_accuracy: 0.3915\n",
      "Epoch 3/10\n",
      "118/118 [==============================] - 105s 888ms/step - loss: 1.5026 - accuracy: 0.5225 - val_loss: 1.6086 - val_accuracy: 0.4844\n",
      "Epoch 4/10\n",
      "118/118 [==============================] - 76s 643ms/step - loss: 1.2588 - accuracy: 0.6033 - val_loss: 1.4917 - val_accuracy: 0.5220\n",
      "Epoch 5/10\n",
      "118/118 [==============================] - 72s 610ms/step - loss: 1.0809 - accuracy: 0.6653 - val_loss: 1.5007 - val_accuracy: 0.5252\n",
      "Epoch 6/10\n",
      "118/118 [==============================] - 72s 609ms/step - loss: 0.9505 - accuracy: 0.7115 - val_loss: 1.4794 - val_accuracy: 0.5544\n",
      "Epoch 7/10\n",
      "118/118 [==============================] - 74s 628ms/step - loss: 0.8324 - accuracy: 0.7531 - val_loss: 1.4936 - val_accuracy: 0.5560\n",
      "Epoch 8/10\n",
      "118/118 [==============================] - 73s 618ms/step - loss: 0.7328 - accuracy: 0.7879 - val_loss: 1.5597 - val_accuracy: 0.5462\n",
      "Epoch 9/10\n",
      "118/118 [==============================] - 73s 621ms/step - loss: 0.6435 - accuracy: 0.8169 - val_loss: 1.5587 - val_accuracy: 0.5509\n",
      "Epoch 10/10\n",
      "118/118 [==============================] - 75s 635ms/step - loss: 0.5633 - accuracy: 0.8494 - val_loss: 1.6117 - val_accuracy: 0.5573\n"
     ]
    }
   ],
   "source": [
    "\n",
    "\n",
    "# Compile the model\n",
    "model.compile(loss='categorical_crossentropy', optimizer='adam', metrics=['accuracy'])\n",
    "\n",
    "# Train the model\n",
    "history = model.fit(X_train, Y_train, epochs=10, batch_size=128, validation_data=(X_test, Y_test))\n"
   ]
  }
 ],
 "metadata": {
  "kernelspec": {
   "display_name": "Python 3",
   "language": "python",
   "name": "python3"
  },
  "language_info": {
   "codemirror_mode": {
    "name": "ipython",
    "version": 3
   },
   "file_extension": ".py",
   "mimetype": "text/x-python",
   "name": "python",
   "nbconvert_exporter": "python",
   "pygments_lexer": "ipython3",
   "version": "3.10.0"
  }
 },
 "nbformat": 4,
 "nbformat_minor": 2
}
